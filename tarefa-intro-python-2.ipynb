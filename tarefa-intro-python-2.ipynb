{
 "cells": [
  {
   "cell_type": "markdown",
   "metadata": {},
   "source": [
    "**Course website**: http://www.leouieda.com/matematica-especial\n",
    "\n",
    "**Note**: This notebook is part of the course \"Matemática Especial I\" of the [Universidade do Estado do Rio de Janeiro](http://www.uerj.br/). All content can be freely used and adapted under the terms of the \n",
    "[Creative Commons Attribution 4.0 International License](http://creativecommons.org/licenses/by/4.0/).\n",
    "\n",
    "![Creative Commons License](https://i.creativecommons.org/l/by/4.0/88x31.png)"
   ]
  },
  {
   "cell_type": "markdown",
   "metadata": {},
   "source": [
    "# Tarefas de Python II"
   ]
  },
  {
   "cell_type": "markdown",
   "metadata": {},
   "source": [
    "Nessas tarefas, vocês vão praticar os conceitos de programação em Python que aprenderam na prática passada. Além disso, vão aprender algumas coisas novas, como ler dados de arquivos.\n",
    "\n",
    "Algumas células de código estarão preenchidas. Essas células são exemplos ou códigos que devem ser rodados para verificar se seu resultado está de acordo com o esperado."
   ]
  },
  {
   "cell_type": "markdown",
   "metadata": {},
   "source": [
    "## Leitura recomendada\n",
    "\n",
    "O material da lição \"Programming with Python\" versão 4 do\n",
    "[Software Carpentry](http://software-carpentry.org/).\n",
    "Particularmente:\n",
    "\n",
    "* Lists\n",
    "* Input and Output\n",
    "* Strings"
   ]
  },
  {
   "cell_type": "markdown",
   "metadata": {},
   "source": [
    "## Listas\n",
    "\n",
    "Vocês tiveram um contato limitado com listas antes. Agora, vamos aprender como fazer coisas mais sofisticadas com listas, como adicionar valores, fazer uma cópia, e utilizar a lista no `for`.\n",
    "\n",
    "Primeiro, vamos criar uma lista para testarmos."
   ]
  },
  {
   "cell_type": "code",
   "execution_count": 111,
   "metadata": {
    "collapsed": true
   },
   "outputs": [],
   "source": [
    "lista = [42, 21, 14, 7, 29]"
   ]
  },
  {
   "cell_type": "markdown",
   "metadata": {},
   "source": [
    "Você pode perguntar o número de elementos que existem em uma lista utilizando a função `len` (muito melhor que contar os elementos na mão)."
   ]
  },
  {
   "cell_type": "code",
   "execution_count": 139,
   "metadata": {
    "collapsed": false
   },
   "outputs": [
    {
     "name": "stdout",
     "output_type": "stream",
     "text": [
      "5\n"
     ]
    }
   ],
   "source": [
    "N = len(lista)\n",
    "print(N)"
   ]
  },
  {
   "cell_type": "markdown",
   "metadata": {},
   "source": [
    "Outra coisa que podemos fazer é adicionar coisas a nossa lista utilizando o método `append`. \n",
    "\n",
    "**Nota**: \"funções\" são coisa como `print`, `len` e `range` que são executadas com `()` e produzem algo. \"Métodos\" são funções que operam em uma determinada variável e a alteram, como `append` e `format`."
   ]
  },
  {
   "cell_type": "code",
   "execution_count": 127,
   "metadata": {
    "collapsed": false
   },
   "outputs": [],
   "source": [
    "outra_lista = []"
   ]
  },
  {
   "cell_type": "code",
   "execution_count": 130,
   "metadata": {
    "collapsed": false
   },
   "outputs": [],
   "source": [
    "x=97\n",
    "outra_lista.append(x)"
   ]
  },
  {
   "cell_type": "code",
   "execution_count": 129,
   "metadata": {
    "collapsed": false
   },
   "outputs": [
    {
     "name": "stdout",
     "output_type": "stream",
     "text": [
      "outralista [10]\n"
     ]
    }
   ],
   "source": [
    "print('outralista', outra_lista)"
   ]
  },
  {
   "cell_type": "code",
   "execution_count": 122,
   "metadata": {
    "collapsed": false
   },
   "outputs": [],
   "source": [
    "outra_lista.append(x)"
   ]
  },
  {
   "cell_type": "markdown",
   "metadata": {},
   "source": [
    "Experimente adicionar elementos a `lista` (utilize a célula vazia abaixo; isso não é uma tarefa ainda)."
   ]
  },
  {
   "cell_type": "code",
   "execution_count": null,
   "metadata": {
    "collapsed": true
   },
   "outputs": [],
   "source": []
  },
  {
   "cell_type": "markdown",
   "metadata": {},
   "source": [
    "Até agora, vocês viram o `for` utilizado somente em conjunto com a função `range`, por exemplo:\n",
    "\n",
    "    for i in range(10):\n",
    "        print(i)\n",
    "\n",
    "Essa é uma parte de como o `for` realmente opera. Na realidade, o `for` itera sobre *elementos de uma lista*. Qualquer lista. O `i` no exemplo acima é uma variável como qualquer outra e pode ter o nome que você quiser. \n",
    "\n",
    "Por exemplo, para iterar sobre os elementos de nossa `lista`:"
   ]
  },
  {
   "cell_type": "code",
   "execution_count": 82,
   "metadata": {
    "collapsed": false
   },
   "outputs": [
    {
     "ename": "NameError",
     "evalue": "name 'lista' is not defined",
     "output_type": "error",
     "traceback": [
      "\u001b[1;31m---------------------------------------------------------------------------\u001b[0m",
      "\u001b[1;31mNameError\u001b[0m                                 Traceback (most recent call last)",
      "\u001b[1;32m<ipython-input-82-d22584a53898>\u001b[0m in \u001b[0;36m<module>\u001b[1;34m()\u001b[0m\n\u001b[1;32m----> 1\u001b[1;33m \u001b[1;32mfor\u001b[0m \u001b[0mvalor\u001b[0m \u001b[1;32min\u001b[0m \u001b[0mlista\u001b[0m\u001b[1;33m:\u001b[0m\u001b[1;33m\u001b[0m\u001b[0m\n\u001b[0m\u001b[0;32m      2\u001b[0m     \u001b[0mprint\u001b[0m\u001b[1;33m(\u001b[0m\u001b[1;34m\"valor ==\"\u001b[0m\u001b[1;33m,\u001b[0m \u001b[0mvalor\u001b[0m\u001b[1;33m)\u001b[0m\u001b[1;33m\u001b[0m\u001b[0m\n",
      "\u001b[1;31mNameError\u001b[0m: name 'lista' is not defined"
     ]
    }
   ],
   "source": [
    "for valor in lista:\n",
    "    print(\"valor ==\", valor)"
   ]
  },
  {
   "cell_type": "markdown",
   "metadata": {},
   "source": [
    "## Lendo dados de arquivos\n",
    "\n",
    "No mundo real, vocês precisarão rotineiramente trabalhar com dados que estão salvos em arquivos. Um formato muito utilizando é o CSV (Comma Separated Values). Nas tarefas dessa prática, vocês terão que analisar os dados do arquivo `dados.csv` que está junto no repositório. Abra esse arquivo em um editor de texto (Notepad++ ou SublimeText) para ver como é o arquivo. A primeira coluna do arquivo representa a hora do dia (de 0 a 24) e a segunda coluna representa um dado fictício de temperatura.\n",
    "\n",
    "Precisamos carregar esses dados para duas listas (uma para as horas e outra para as temperaturas) para podermos trabalhar com eles no Python. Para abrir um arquivo para leitura, utilize a função `open` do Python. Por exemplo: "
   ]
  },
  {
   "cell_type": "code",
   "execution_count": 178,
   "metadata": {
    "collapsed": true
   },
   "outputs": [],
   "source": [
    "arquivo = open('dados.csv')"
   ]
  },
  {
   "cell_type": "markdown",
   "metadata": {},
   "source": [
    "A variável produzida por `open` possui alguns métodos para acessar o conteúdo do arquivo em formato de texto (strings).\n",
    "Um desses métodos é o `readline`. Esse método lê a próxima linha do arquivo e a retorna como texto. Por exemplo:"
   ]
  },
  {
   "cell_type": "code",
   "execution_count": 179,
   "metadata": {
    "collapsed": false
   },
   "outputs": [
    {
     "name": "stdout",
     "output_type": "stream",
     "text": [
      "0, 0\n",
      "\n"
     ]
    }
   ],
   "source": [
    "linha = arquivo.readline()\n",
    "print(linha)"
   ]
  },
  {
   "cell_type": "code",
   "execution_count": 180,
   "metadata": {
    "collapsed": false
   },
   "outputs": [
    {
     "name": "stdout",
     "output_type": "stream",
     "text": [
      "['0', '0\\n']\n"
     ]
    }
   ],
   "source": [
    "bloco = linha.split(', ')\n",
    "print(bloco)"
   ]
  },
  {
   "cell_type": "code",
   "execution_count": 181,
   "metadata": {
    "collapsed": false
   },
   "outputs": [
    {
     "name": "stdout",
     "output_type": "stream",
     "text": [
      "0.0\n"
     ]
    }
   ],
   "source": [
    "valor = float(bloco[0])\n",
    "print(valor)"
   ]
  },
  {
   "cell_type": "markdown",
   "metadata": {},
   "source": [
    "Rode a célula acima novamente e veja o que acontece.\n"
   ]
  },
  {
   "cell_type": "markdown",
   "metadata": {},
   "source": [
    "Quanto terminamos de utilizar o arquivo, devemos fechá-lo (como as figuras)."
   ]
  },
  {
   "cell_type": "code",
   "execution_count": 16,
   "metadata": {
    "collapsed": true
   },
   "outputs": [],
   "source": [
    "arquivo.close()"
   ]
  },
  {
   "cell_type": "markdown",
   "metadata": {},
   "source": [
    "Uma vez obtida a linha em formato de texto, precisamo separar os dois valores. Os objetos de texto (strings) possuem diversos métodos para trabalharmos com eles. Um desses vocês já conhecem, o método `format`. Para ver uma lista dos métodos disponíveis, digite na célula abaixo `linha.` e aperte a tecla TAB."
   ]
  },
  {
   "cell_type": "code",
   "execution_count": 17,
   "metadata": {
    "collapsed": false
   },
   "outputs": [
    {
     "data": {
      "text/plain": [
       "<function str.format>"
      ]
     },
     "execution_count": 17,
     "metadata": {},
     "output_type": "execute_result"
    }
   ],
   "source": [
    "linha.split"
   ]
  },
  {
   "cell_type": "markdown",
   "metadata": {},
   "source": [
    "O método que queremos chama-se `split`. Ele faz exatamente o que o nome diz: quebra uma string em várias. O argumento que é passado para ele é o texto que separa os diversos blocos. Por exemplo:"
   ]
  },
  {
   "cell_type": "code",
   "execution_count": 35,
   "metadata": {
    "collapsed": false
   },
   "outputs": [
    {
     "name": "stdout",
     "output_type": "stream",
     "text": [
      "['Texto', 'separado', 'por', 'interrogacoes']\n"
     ]
    }
   ],
   "source": [
    "texto = \"Texto ? separado ? por ? interrogacoes\"\n",
    "blocos = texto.split(' ? ')\n",
    "print(blocos)"
   ]
  },
  {
   "cell_type": "markdown",
   "metadata": {},
   "source": [
    "Note que o resultado produzido por `split` é uma lista."
   ]
  },
  {
   "cell_type": "code",
   "execution_count": 36,
   "metadata": {
    "collapsed": false
   },
   "outputs": [
    {
     "data": {
      "text/plain": [
       "'Texto'"
      ]
     },
     "execution_count": 36,
     "metadata": {},
     "output_type": "execute_result"
    }
   ],
   "source": [
    "blocos[0]"
   ]
  },
  {
   "cell_type": "markdown",
   "metadata": {},
   "source": [
    "Experimente separar a linha do arquivo que vemos acima nos dois valores que ela contem (utilize a célula vazia abaixo; isso não é uma tarefa ainda)."
   ]
  },
  {
   "cell_type": "code",
   "execution_count": 37,
   "metadata": {
    "collapsed": false
   },
   "outputs": [
    {
     "data": {
      "text/plain": [
       "'separado'"
      ]
     },
     "execution_count": 37,
     "metadata": {},
     "output_type": "execute_result"
    }
   ],
   "source": [
    "blocos [1]"
   ]
  },
  {
   "cell_type": "markdown",
   "metadata": {},
   "source": [
    "Depois que conseguirmos nossos valores em formato texto, precisamos convertê-los para números. O Python nos fornece algumas funções para isso: `int` (para números inteiros), `float` (para números \"reais\" ou ponto flutuante) e `complex` (para números complexos). Por exemplo: "
   ]
  },
  {
   "cell_type": "code",
   "execution_count": null,
   "metadata": {
    "collapsed": false
   },
   "outputs": [],
   "source": [
    "valor_em_texto = \"8888\"\n",
    "valor = int(valor_em_texto)\n",
    "print(valor + 1)"
   ]
  },
  {
   "cell_type": "code",
   "execution_count": null,
   "metadata": {
    "collapsed": false
   },
   "outputs": [],
   "source": [
    "float_em_texto = \"4.2\"\n",
    "valor = float(float_em_texto)\n",
    "print(valor/2)"
   ]
  },
  {
   "cell_type": "markdown",
   "metadata": {},
   "source": [
    "Por último, podemos tratar a variável `arquivo` retornada por `open` como uma lista das linhas do arquivo. Isso quer dizer que podemos utilizá-la em um `for` como:"
   ]
  },
  {
   "cell_type": "code",
   "execution_count": 79,
   "metadata": {
    "collapsed": false
   },
   "outputs": [
    {
     "name": "stdout",
     "output_type": "stream",
     "text": [
      "240\n"
     ]
    }
   ],
   "source": [
    "arquivo = open('dados.csv')\n",
    "num_linhas = 0\n",
    "for linha in arquivo:\n",
    "    num_linhas = num_linhas + 1    \n",
    "arquivo.close()\n",
    "print(num_linhas)"
   ]
  },
  {
   "cell_type": "markdown",
   "metadata": {},
   "source": [
    "Experimente imprimir todas as linhas do arquivo `README.md` (utilize a célula vazia abaixo; isso não é uma tarefa ainda)."
   ]
  },
  {
   "cell_type": "code",
   "execution_count": 80,
   "metadata": {
    "collapsed": false
   },
   "outputs": [
    {
     "name": "stdout",
     "output_type": "stream",
     "text": [
      "360\n"
     ]
    }
   ],
   "source": [
    "arquivo = open('readme.md')\n",
    "for linha in arquivo:\n",
    "    num_linhas = num_linhas + 1    \n",
    "arquivo.close()\n",
    "print(num_linhas)"
   ]
  },
  {
   "cell_type": "markdown",
   "metadata": {},
   "source": [
    "## **IMPORTANTE**: Cada tarefa abaixo deve ser feita por um membro DIFERENTE do grupo. Os outros devem ajudá-lo mas a pessoa digitando deve ser quem está encarregado da tarefa."
   ]
  },
  {
   "cell_type": "markdown",
   "metadata": {},
   "source": [
    "## Tarefa 1\n",
    "\n",
    "* Carregue os dados do arquivo `dados.csv` em duas listas: `tempos` e `dados` (os nomes precisam ser esses!). `tempos` deve conter os valores da primeira coluna e `dados` os da segunda.\n",
    "* Faça um gráfico dos hora x temperatura (lembre-se de utilizar a mágia `%matplotlib inline`).\n",
    "\n",
    "Você pode utilizar quantas células achar necessário para realizar a tarefa (use o menu \"Insert\"). Inclua comentátios para explicar o que você está fazendo."
   ]
  },
  {
   "cell_type": "code",
   "execution_count": 1,
   "metadata": {
    "collapsed": false,
    "scrolled": true
   },
   "outputs": [],
   "source": [
    "arquivo = open('dados.csv')"
   ]
  },
  {
   "cell_type": "code",
   "execution_count": 2,
   "metadata": {
    "collapsed": false
   },
   "outputs": [],
   "source": [
    "tempos = [] #Definição da lista tempos\n",
    "dados = [] #Definição da lista dados \n",
    "for linha in arquivo:  #rodaremos os comandos abaixo para cada valor referente ao bloco0 ou  bloco1 para os valores serem adicionados a lista criada acima\n",
    "    bloco = linha.split (', ') #divisão da linha em bocos, sendo o bloco0 tempos e o bloco1 dados\n",
    "    tempos.append(float(bloco[0])) #utilização do append para adicionar os dados as listas criadas acima, e utilização do float para tonar os valores como numeros\n",
    "    dados.append(float(bloco[1]))\n",
    "arquivo.close()\n"
   ]
  },
  {
   "cell_type": "code",
   "execution_count": 3,
   "metadata": {
    "collapsed": false
   },
   "outputs": [
    {
     "name": "stdout",
     "output_type": "stream",
     "text": [
      "tempos [0.0, 0.1, 0.2, 0.3, 0.4, 0.5, 0.6, 0.7, 0.8, 0.9, 1.0, 1.1, 1.2, 1.3, 1.4, 1.5, 1.6, 1.7, 1.8, 1.9, 2.0, 2.1, 2.2, 2.3, 2.4, 2.5, 2.6, 2.7, 2.8, 2.9, 3.0, 3.1, 3.2, 3.3, 3.4, 3.5, 3.6, 3.7, 3.8, 3.9, 4.0, 4.1, 4.2, 4.3, 4.4, 4.5, 4.6, 4.7, 4.8, 4.9, 5.0, 5.1, 5.2, 5.3, 5.4, 5.5, 5.6, 5.7, 5.8, 5.9, 6.0, 6.1, 6.2, 6.3, 6.4, 6.5, 6.6, 6.7, 6.8, 6.9, 7.0, 7.1, 7.2, 7.3, 7.4, 7.5, 7.6, 7.7, 7.8, 7.9, 8.0, 8.1, 8.2, 8.3, 8.4, 8.5, 8.6, 8.7, 8.8, 8.9, 9.0, 9.1, 9.2, 9.3, 9.4, 9.5, 9.6, 9.7, 9.8, 9.9, 10.0, 10.1, 10.2, 10.3, 10.4, 10.5, 10.6, 10.7, 10.8, 10.9, 11.0, 11.1, 11.2, 11.3, 11.4, 11.5, 11.6, 11.7, 11.8, 11.9, 12.0, 12.1, 12.2, 12.3, 12.4, 12.5, 12.6, 12.7, 12.8, 12.9, 13.0, 13.1, 13.2, 13.3, 13.4, 13.5, 13.6, 13.7, 13.8, 13.9, 14.0, 14.1, 14.2, 14.3, 14.4, 14.5, 14.6, 14.7, 14.8, 14.9, 15.0, 15.1, 15.2, 15.3, 15.4, 15.5, 15.6, 15.7, 15.8, 15.9, 16.0, 16.1, 16.2, 16.3, 16.4, 16.5, 16.6, 16.7, 16.8, 16.9, 17.0, 17.1, 17.2, 17.3, 17.4, 17.5, 17.6, 17.7, 17.8, 17.9, 18.0, 18.1, 18.2, 18.3, 18.4, 18.5, 18.6, 18.7, 18.8, 18.9, 19.0, 19.1, 19.2, 19.3, 19.4, 19.5, 19.6, 19.7, 19.8, 19.9, 20.0, 20.1, 20.2, 20.3, 20.4, 20.5, 20.6, 20.7, 20.8, 20.9, 21.0, 21.1, 21.2, 21.3, 21.4, 21.5, 21.6, 21.7, 21.8, 21.9, 22.0, 22.1, 22.2, 22.3, 22.4, 22.5, 22.6, 22.7, 22.8, 22.9, 23.0, 23.1, 23.2, 23.3, 23.4, 23.5, 23.6, 23.7, 23.8, 23.9]\n"
     ]
    }
   ],
   "source": [
    "print('tempos', tempos) #print da lista tempos"
   ]
  },
  {
   "cell_type": "code",
   "execution_count": 4,
   "metadata": {
    "collapsed": false
   },
   "outputs": [
    {
     "name": "stdout",
     "output_type": "stream",
     "text": [
      "dados: [0.0, 0.61464164, 1.0320324, 1.1238251, 0.87540985, 0.39101585, -0.14270041, -0.52186154, -0.59659114, -0.32337174, 0.21975159, 0.86043287, 1.3922289, 1.6467141, 1.5523145, 1.1593091, 0.62226425, 0.14603706, -0.085788363, 0.024965949, 0.45677374, 1.0759225, 1.6832216, 2.0835833, 2.1541709, 1.8873076, 1.3931564, 0.8612352, 0.49421121, 0.43710175, 0.72661379, 1.2783195, 1.9161477, 2.4338889, 2.6672284, 2.5511447, 2.1426217, 1.6007407, 1.1311076, 0.91402652, 1.0415133, 1.48515, 2.1060103, 2.703189, 3.0839824, 3.1312036, 2.8441177, 2.3386969, 1.8071066, 1.4505748, 1.4090961, 1.7125255, 2.2701481, 2.902367, 3.4034394, 3.613348, 3.4736972, 3.0481116, 2.5000081, 2.0355084, 1.8314335, 1.9735332, 2.4265299, 3.0464409, 3.6308739, 3.9897274, 4.0115968, 3.7026903, 3.1846584, 2.6520967, 2.3045669, 2.2768823, 2.5920127, 3.153059, 3.7771014, 4.2590973, 4.4435073, 4.2786283, 3.8346536, 3.2791511, 2.8185258, 2.6259153, 2.7807066, 3.2408029, 3.8573278, 4.4266312, 4.7614286, 4.7562241, 4.424162, 3.8924338, 3.3578455, 3.0180666, 3.0025774, 3.3274363, 3.8896698, 4.5032423, 4.9640432, 5.1211873, 4.9297225, 4.4663317, 3.9025443, 3.4448153, 3.2624035, 3.4282434, 3.8934667, 4.5044718, 5.0565811, 5.3655393, 5.3318785, 4.9756644, 4.4294856, 3.8921364, 3.5591707, 3.5545891, 3.8875211, 4.4490349, 5.05019, 5.4880385, 5.6165203, 5.3974851, 4.9140188, 4.3414187, 3.8859563, 3.7128201, 3.8884101, 4.3571415, 4.9608616, 5.4940968, 5.7758294, 5.7127321, 5.3317694, 4.7707774, 4.2303136, 3.9035954, 3.9090038, 4.2487288, 4.8080039, 5.3951972, 5.8087533, 5.9076023, 5.660439, 5.1566584, 4.5751275, 4.1217012, 3.957311, 4.1417471, 4.6127715, 5.2078593, 5.720973, 5.9745374, 5.8814716, 5.4756083, 4.8998752, 4.3563664, 4.0357444, 4.0506367, 4.3962913, 4.952237, 5.5243671, 5.9127468, 5.9814558, 5.7060695, 5.1821911, 4.5920549, 4.1408664, 3.9851183, 4.1779235, 4.650461, 5.2360174, 5.7282246, 5.9531508, 5.8300596, 5.3996139, 4.8096715, 4.2636343, 3.9493945, 3.9736985, 4.3248581, 4.8768333, 5.4332623, 5.7960567, 5.8345998, 5.5313751, 4.988086, 4.3901277, 3.9418246, 3.7950534, 3.9961897, 4.4699073, 5.0454927, 5.5164808, 5.7127796, 5.5600885, 5.1058548, 4.5026988, 3.9551006, 3.6479693, 3.6820497, 4.0387303, 4.5865447, 5.1270983, 5.4643731, 5.4732034, 5.1430008, 4.5814535, 3.9769084, 3.5325771, 3.395549, 3.6054095, 4.0804126, 4.6460377, 5.0959559, 5.2641073, 5.0827113, 4.6059455, 3.9910206, 3.443263, 3.1443897, 3.18903, 3.5516699, 4.0955656, 4.6205135, 4.9327876, 4.912815, 4.5569469, 3.9787347, 3.3692636, 2.930403, 2.8042882, 3.0236697, 3.5004738, 4.0565703, 4.4859995, 4.6269216, 4.4181522, 3.9205381, 3.2957021, 2.749585, 2.460506, 2.5168717]\n"
     ]
    }
   ],
   "source": [
    "print(\"dados:\", dados) #print da lista dados"
   ]
  },
  {
   "cell_type": "code",
   "execution_count": 5,
   "metadata": {
    "collapsed": false
   },
   "outputs": [
    {
     "data": {
      "text/plain": [
       "[<matplotlib.lines.Line2D at 0x71b9518>]"
      ]
     },
     "execution_count": 5,
     "metadata": {},
     "output_type": "execute_result"
    },
    {
     "data": {
      "image/png": "[encoded data removed]",
      "text/plain": [
       "<matplotlib.figure.Figure at 0x53e3eb8>"
      ]
     },
     "metadata": {},
     "output_type": "display_data"
    }
   ],
   "source": [
    "%matplotlib inline \n",
    "import matplotlib.pyplot as plt #Para ultilizar a biblioteca do matplot\n",
    "plt.figure #criação da figura\n",
    "plt.plot(tempos, dados) #Gerar o grafico nesse intervalo, ultilizando essas variaveis"
   ]
  },
  {
   "cell_type": "markdown",
   "metadata": {},
   "source": [
    "## Tarefa 2\n",
    "\n",
    "* Calcule a temperatura média para o dia inteiro e guarde-a em uma variável chamada `media`.\n",
    "* Calcule o desvio padrão da temperatura para o dia inteiro e guarde-o em uma variável chamada `desvio_padrao`.\n",
    "\n",
    "Lembre-se que o desvio padrão é\n",
    "\n",
    "$$\n",
    "\\sigma = \\sqrt{\\sum\\limits_{i=1}^{N}\\frac{ (x_i - x_{media})^2 }{N}}\n",
    "$$\n",
    "\n",
    "em que $x_i$ são os dados, $x_{media}$ é a média e $N$ é o número de dados.\n",
    "\n",
    "**Dica**: Para elevar um número a uma potência, utilize `**`. Por exemplo, `2**4 == 16`."
   ]
  },
  {
   "cell_type": "code",
   "execution_count": 6,
   "metadata": {
    "collapsed": false
   },
   "outputs": [
    {
     "name": "stdout",
     "output_type": "stream",
     "text": [
      "Média: 3.614394766983332\n"
     ]
    }
   ],
   "source": [
    "N = len(dados) #Definindo a quantidade de dados\n",
    "soma = 0 #definindo a soma dos valores\n",
    "for valor in dados: #pegaremos cada valor da lista dados e somaremos ao valor que já estará ou não adicionado a lista soma\n",
    "    soma = soma + valor\n",
    "media = (soma/N) #divisão do valor obtido na soma pela quantidade de dados, que no caso é denominada N\n",
    "print('Média:', media)"
   ]
  },
  {
   "cell_type": "code",
   "execution_count": 7,
   "metadata": {
    "collapsed": false
   },
   "outputs": [
    {
     "name": "stdout",
     "output_type": "stream",
     "text": [
      "Desvio Padrão: 1.5732070880463978\n"
     ]
    }
   ],
   "source": [
    "soma_x = 0\n",
    "for valor in dados: #para cada valor da lista dados, adicionaremos o seu valorv - a media²  e somaremos todos esses valores\n",
    "    soma_x = soma_x + (valor - media)**2\n",
    "desvio_padrao = (soma_x/N)**0.5 #definição do desvio padrão,a raiz quadrada da divisão do somatorio de soma_x por N\n",
    "print('Desvio Padrão:', desvio_padrao)"
   ]
  },
  {
   "cell_type": "raw",
   "metadata": {},
   "source": [
    "### Resultado esperado\n",
    "\n",
    "As celúlas abaixo comparam a sua média e desvio padrão com os calculados pela biblioteca [numpy](http://numpy.org/).\n",
    "Ambas devem imprimir `True` quando executadas."
   ]
  },
  {
   "cell_type": "code",
   "execution_count": 8,
   "metadata": {
    "collapsed": false
   },
   "outputs": [
    {
     "name": "stdout",
     "output_type": "stream",
     "text": [
      "Media esta igual? True\n"
     ]
    }
   ],
   "source": [
    "import numpy as np\n",
    "print(\"Media esta igual?\", np.allclose(media, np.mean(dados)))"
   ]
  },
  {
   "cell_type": "code",
   "execution_count": 9,
   "metadata": {
    "collapsed": false
   },
   "outputs": [
    {
     "name": "stdout",
     "output_type": "stream",
     "text": [
      "Desvio padrao esta igual? True\n"
     ]
    }
   ],
   "source": [
    "print(\"Desvio padrao esta igual?\", np.allclose(desvio_padrao, np.std(dados)))"
   ]
  },
  {
   "cell_type": "markdown",
   "metadata": {},
   "source": [
    "## Tarefa 3\n",
    "\n",
    "* Ache o valor máximo de temperatura medido e guarde-o na variável `maximo`.\n",
    "* Ache o valor mínimo de temperatura medido e guarde-o na variável `minimo`.\n",
    "\n",
    "**Dica**: o Python inclui um valor especial chamado de `None`. Ele é comumente utilizado para marcar que uma variável está \"vazia\" ou não utilizada ainda. Um detalhe desse valor é que não podemos utilizar `==` para checar se uma variável possui o valor `None`. Ao invés disso, devemos utilizar o comando `is`. Por exemplo:\n",
    "\n",
    "    variavel = None\n",
    "    if variavel is None:\n",
    "        print(\"A variavel eh None\")\n",
    "        variavel = 20\n",
    "        "
   ]
  },
  {
   "cell_type": "code",
   "execution_count": 10,
   "metadata": {
    "collapsed": false
   },
   "outputs": [
    {
     "name": "stdout",
     "output_type": "stream",
     "text": [
      "maximo 5.9814558\n",
      "minimo -0.59659114\n"
     ]
    }
   ],
   "source": [
    "maximo = dados[0] #Indica o  maximo como o primeiro valor da lista \n",
    "for valor in dados: #Para analisamor todos os valor\n",
    "    if maximo < valor: # se o maximo que é o primeiro valor, for menor que o valor analisado,o maximo sera o valor analisado, como indica a linha abaixo\n",
    "        maximo = valor\n",
    "print('maximo', maximo) #imprimir o valor maximo\n",
    "\n",
    "minimo = dados[0] #Indica o minimo  como o primeiro valor da lista\n",
    "for valor in dados: #Para analisamor todos os valor\n",
    "    if minimo > valor: # se o minimo (que é o primeiro valor), for maior que o valor analisado,o minimo sera o valor analisado, como indica a linha abaixo\n",
    "        minimo = valor\n",
    "print('minimo', minimo) #imprimir o minimo"
   ]
  },
  {
   "cell_type": "markdown",
   "metadata": {},
   "source": [
    "### Resultado esperado\n",
    "\n",
    "As celúlas abaixo comparam os valores máximo e mínimo com os calculados pelas funções `max` e `min` do Python.\n",
    "Ambas devem imprimir `True` quando executadas."
   ]
  },
  {
   "cell_type": "code",
   "execution_count": 11,
   "metadata": {
    "collapsed": false
   },
   "outputs": [
    {
     "name": "stdout",
     "output_type": "stream",
     "text": [
      "Maximo esta igual? True\n"
     ]
    }
   ],
   "source": [
    "print(\"Maximo esta igual?\", np.allclose(maximo, max(dados)))"
   ]
  },
  {
   "cell_type": "code",
   "execution_count": 12,
   "metadata": {
    "collapsed": false
   },
   "outputs": [
    {
     "name": "stdout",
     "output_type": "stream",
     "text": [
      "Minimo esta igual? True\n"
     ]
    }
   ],
   "source": [
    "print(\"Minimo esta igual?\", np.allclose(minimo, min(dados)))"
   ]
  },
  {
   "cell_type": "markdown",
   "metadata": {},
   "source": [
    "## Tarefa 4\n",
    "\n",
    "* Calcule a temperatura média por hora e guarde-as em uma lista chamada `media_hora`.\n",
    "* Faça um gráfico dos dados originais juntamente com as médias que você calculou.\n",
    "\n",
    "**Dica 1**: quantos dados existem por hora?\n",
    "\n",
    "**Dica 2**: veja esse [exemplo de como colocar uma legenda no grafico](http://matplotlib.org/examples/api/legend_demo.html)."
   ]
  },
  {
   "cell_type": "code",
   "execution_count": 16,
   "metadata": {
    "collapsed": false
   },
   "outputs": [
    {
     "name": "stdout",
     "output_type": "stream",
     "text": [
      "[0.24524000100000007, 0.7538229956, 1.25266842, 1.7361839509999997, 2.19915446, 2.6368249399999995, 3.0449581, 3.4198659899999995, 3.7584158100000002, 4.05801226, 4.31656083, 4.5324171699999996, 4.704328540000001, 4.83137451, 4.912912540000001, 4.948534479999999, 4.93803825, 4.88141768, 4.7788713000000005, 4.6308297099999995, 4.4379985699999995, 4.20141309, 3.92249878, 3.6031320300000003]\n"
     ]
    }
   ],
   "source": [
    "hora_media = [] #Definição da lista da media por hora\n",
    "for N in range(10,250,10):\n",
    "    s_dezena = 0\n",
    "    for i in range(N-10,N,1):\n",
    "        s_dezena = s_dezena + dados[i]\n",
    "    media = s_dezena/10\n",
    "    hora_media.append(media)\n",
    "print(hora_media)"
   ]
  },
  {
   "cell_type": "code",
   "execution_count": 24,
   "metadata": {
    "collapsed": false
   },
   "outputs": [
    {
     "data": {
      "image/png": "[encoded data removed]",
      "text/plain": [
       "<matplotlib.figure.Figure at 0x9de908>"
      ]
     },
     "metadata": {},
     "output_type": "display_data"
    }
   ],
   "source": [
    "%matplotlib inline \n",
    "import numpy as np\n",
    "import matplotlib.pyplot as plt\n",
    "horas_por_dia = [0,1,2,3,4,5,6,7,8,9,10,11,12,13,14,15,16,17,18,19,20,21,22,23] #Lista com as horas por dia\n",
    "plt.figure() #Plotar figura\n",
    "plt.plot(tempos,dados,\"-k\", label = \"Dados\") # Plotar por etiquetas/formas pre-definidas .\n",
    "plt.xlabel(\"Hora\") #Definição do eixo horizontal como Hora\n",
    "plt.ylabel(\"Temperatura\") #Definição do eixo vetical como Temperatura\n",
    "plt.plot(horas_por_dia, hora_media, \"ok\", label = \"Média por hora\") #dados a serem plotados no gráfico\n",
    "legend = plt.legend(loc='lower right', shadow=True, fontsize='x-large') #definição da legenda: localização, fote\n",
    "legend.get_frame().set_facecolor('#00FFCC') #Fundo colorido para a legenda"
   ]
  },
  {
   "cell_type": "markdown",
   "metadata": {},
   "source": [
    "### Resultado esperado\n",
    "\n",
    "A figura gerada deve ser parecida com:\n",
    "\n",
    "![images/media-por-hora.png](images/media-por-hora.png)"
   ]
  },
  {
   "cell_type": "markdown",
   "metadata": {},
   "source": [
    "## Tarefa Bônus\n",
    "\n",
    "Essa tarefa vale um bônus de 0.5 pontos na nota da prática.\n",
    "\n",
    "* Calcule os máximos de temperatura por hora.\n",
    "* Calcule os mínimos de temperatura por hora.\n",
    "* Faça um gráfico com: (1) os dados originais (2) as médias por hora (3) os máximos por hora (4) os mínimos por hora."
   ]
  },
  {
   "cell_type": "code",
   "execution_count": null,
   "metadata": {
    "collapsed": false
   },
   "outputs": [],
   "source": []
  },
  {
   "cell_type": "markdown",
   "metadata": {},
   "source": [
    "### Resultado esperado\n",
    "\n",
    "A figura gerada deve ser parecida com:\n",
    "\n",
    "![images/media-maximo-minimo-por-hora.png](images/media-maximo-minimo-por-hora.png)"
   ]
  }
 ],
 "metadata": {
  "kernelspec": {
   "display_name": "Python 3",
   "language": "python",
   "name": "python3"
  },
  "language_info": {
   "codemirror_mode": {
    "name": "ipython",
    "version": 3
   },
   "file_extension": ".py",
   "mimetype": "text/x-python",
   "name": "python",
   "nbconvert_exporter": "python",
   "pygments_lexer": "ipython3",
   "version": "3.4.3"
  }
 },
 "nbformat": 4,
 "nbformat_minor": 0
}
